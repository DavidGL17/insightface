{
 "cells": [
  {
   "cell_type": "code",
   "execution_count": 1,
   "metadata": {},
   "outputs": [],
   "source": [
    "test = {}\n",
    "print(test)"
   ]
  },
  {
   "cell_type": "code",
   "execution_count": null,
   "metadata": {},
   "outputs": [],
   "source": [
    "test[\"test\"] = []\n",
    "print(test)"
   ]
  },
  {
   "cell_type": "code",
   "execution_count": 6,
   "metadata": {},
   "outputs": [
    {
     "name": "stdout",
     "output_type": "stream",
     "text": [
      "<class 'list'>\n"
     ]
    }
   ],
   "source": [
    "import json\n",
    "\n",
    "# open the results file\n",
    "with open(\"results/results.json\", \"r\") as f:\n",
    "    results = json.load(f)\n",
    "\n",
    "scrfd_results = {}\n",
    "for model_name, results_list in results.items():\n",
    "    # first do the conversion\n",
    "    results_list = [\n",
    "        {\n",
    "            \"image\": x[\"image\"],\n",
    "            \"time\": x[\"time\"],\n",
    "            \"error rate\": 100\n",
    "            - (\n",
    "                (x[\"faces found\"] * 100)\n",
    "                / (x[\"faces found\"] + x[\"faces not found\"])\n",
    "            ),\n",
    "            \"height\": x[\"height\"],\n",
    "            \"width\": x[\"width\"],\n",
    "        }\n",
    "        for x in results_list\n",
    "    ]\n",
    "    # now add the results to the scrfd_results dictionary\n",
    "    scrfd_results[model_name] = results_list\n",
    "\n",
    "results = scrfd_results[\"10g_kps\"]\n",
    "print(type(results))\n",
    "\n"
   ]
  },
  {
   "cell_type": "code",
   "execution_count": 4,
   "metadata": {},
   "outputs": [
    {
     "name": "stdout",
     "output_type": "stream",
     "text": [
      "219\n",
      "{(1718, 2444)}\n"
     ]
    }
   ],
   "source": [
    "import cv2\n",
    "import os\n",
    "import glob\n",
    "\n",
    "\n",
    "# for all jpg in the dataset folder, make a set of all existing sizes of image\n",
    "# this is to make sure that we don't resize an image to a size that already exists\n",
    "\n",
    "# get all jpg files in the dataset folder\n",
    "images = glob.glob(os.path.join(\"dataset\", \"*.jpg\"))\n",
    "\n",
    "print(len(images))\n",
    "# get the sizes of all images\n",
    "sizes = set()\n",
    "for image in images:\n",
    "    img = cv2.imread(image)\n",
    "    sizes.add((img.shape[0], img.shape[1]))\n",
    "print(sizes)"
   ]
  },
  {
   "cell_type": "code",
   "execution_count": 5,
   "metadata": {},
   "outputs": [
    {
     "name": "stdout",
     "output_type": "stream",
     "text": [
      "22\n"
     ]
    }
   ],
   "source": [
    "import cv2\n",
    "import numpy as np\n",
    "import glob\n",
    "import os\n",
    "import json\n",
    "from time import time\n",
    "\n",
    "from mmdet.apis import inference_detector, init_detector\n",
    "\n",
    "\n",
    "def detect_faces_scrfd(image_path, model, score_thr=0.3):\n",
    "    # read the image\n",
    "    img = cv2.imread(image_path)\n",
    "    # perform inference\n",
    "    start = time()\n",
    "    result = inference_detector(model, img)\n",
    "    duration = time() - start\n",
    "    # remove all detections with a score lower than the threshold\n",
    "    result = result[0][result[0][:, 4] > score_thr]\n",
    "    # count the number of faces\n",
    "    faces = result.shape[0]\n",
    "    # draw the bounding boxes\n",
    "    if len(result) > 0:\n",
    "        for array in result:\n",
    "            # get the coordinates of the bounding box\n",
    "            x1, y1, x2, y2 = array[0], array[1], array[2], array[3]\n",
    "            # draw the bounding box\n",
    "            cv2.rectangle(img, (int(x1), int(y1)), (int(x2), int(y2)), (0, 255, 0), 5)\n",
    "    # return the image with the detections\n",
    "    return img, duration, faces\n",
    "\n",
    "\n",
    "images_path = \"./data/retinaface/test/images\"\n",
    "result_path = \"./results\"\n",
    "models_path = \"./models\"\n",
    "\n",
    "model = {\"config\": \"scrfd_10g_custom.py\", \"model\": \"custom/latest.pth\"}\n",
    "\n",
    "# get all images in the data/retinaface/test/images folder. All images are jpg in subfolders\n",
    "images = glob.glob(os.path.join(images_path, \"**/*.jpg\"), recursive=True)\n",
    "print(len(images))"
   ]
  },
  {
   "cell_type": "code",
   "execution_count": 6,
   "metadata": {},
   "outputs": [
    {
     "name": "stdout",
     "output_type": "stream",
     "text": [
      "Use load_from_local loader\n"
     ]
    }
   ],
   "source": [
    "checkpoint_path = os.path.join(models_path, model[\"model\"])\n",
    "config_path = os.path.join(\"./configs/scrfd\", model[\"config\"])\n",
    "model = init_detector(config_path, checkpoint_path, device=\"cuda:0\")"
   ]
  },
  {
   "cell_type": "code",
   "execution_count": 7,
   "metadata": {},
   "outputs": [],
   "source": [
    "import matplotlib.pyplot as plt\n",
    "import numpy as np"
   ]
  },
  {
   "cell_type": "code",
   "execution_count": 8,
   "metadata": {},
   "outputs": [],
   "source": [
    "# for image in images:\n",
    "#     # perform face detection on the image, using the SCRFD_2.5G_KPS model\n",
    "#     result, duration, faces = detect_faces_scrfd(image, model, score_thr=0.4)\n",
    "#     # print the image (make it so that it is not blue)\n",
    "#     plt.imshow(cv2.cvtColor(result, cv2.COLOR_BGR2RGB))\n",
    "#     plt.show()\n",
    "\n",
    "# for the first 6 images in the dataset, perform face detection on the image, using the model, and save them with name inisghtface_dataset_results_1.png, insightface_dataset_results_2.png, etc.\n",
    "for i in range(6):\n",
    "    # perform face detection on the image, using the SCRFD_2.5G_KPS model\n",
    "    result, duration, faces =detect_faces_scrfd(images[i], model, score_thr=0.4)\n",
    "    # save the image\n",
    "    plt.imsave(\n",
    "        f\"insightface_dataset_results_{i+1}.png\",\n",
    "        cv2.cvtColor(result, cv2.COLOR_BGR2RGB),\n",
    "    )\n"
   ]
  }
 ],
 "metadata": {
  "kernelspec": {
   "display_name": ".scrfd_env",
   "language": "python",
   "name": "python3"
  },
  "language_info": {
   "codemirror_mode": {
    "name": "ipython",
    "version": 3
   },
   "file_extension": ".py",
   "mimetype": "text/x-python",
   "name": "python",
   "nbconvert_exporter": "python",
   "pygments_lexer": "ipython3",
   "version": "3.8.10"
  },
  "orig_nbformat": 4
 },
 "nbformat": 4,
 "nbformat_minor": 2
}
